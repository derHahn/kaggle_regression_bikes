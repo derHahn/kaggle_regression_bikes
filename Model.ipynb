{
 "cells": [
  {
   "cell_type": "markdown",
   "id": "c06bc041-f869-4e58-a169-2febd2debf60",
   "metadata": {},
   "source": [
    "# Kaggle competition: Bike Sharing Demand\n",
    "Jens Hahn"
   ]
  },
  {
   "cell_type": "code",
   "execution_count": 1,
   "id": "ad19ec5f-fbb0-4e02-a745-9a5bdcfd1d8b",
   "metadata": {
    "tags": []
   },
   "outputs": [],
   "source": [
    "import pandas as pd\n",
    "import numpy as np\n",
    "\n",
    "from sklearn.model_selection import train_test_split, GridSearchCV\n",
    "from sklearn.preprocessing import OneHotEncoder, StandardScaler, PolynomialFeatures, KBinsDiscretizer, FunctionTransformer\n",
    "from sklearn.pipeline import Pipeline\n",
    "from sklearn.compose import ColumnTransformer\n",
    "from sklearn.metrics import mean_squared_log_error, make_scorer\n",
    "from sklearn.linear_model import PoissonRegressor\n",
    "from sklearn.ensemble import RandomForestRegressor"
   ]
  },
  {
   "cell_type": "code",
   "execution_count": 2,
   "id": "aee8b103-430a-4053-abce-4f16e064e049",
   "metadata": {
    "tags": []
   },
   "outputs": [],
   "source": [
    "df = pd.read_csv('data/train.csv', parse_dates=[0])"
   ]
  },
  {
   "cell_type": "code",
   "execution_count": 3,
   "id": "edeaef30-8ce9-4c86-bd66-b159b3ecf53f",
   "metadata": {
    "tags": []
   },
   "outputs": [],
   "source": [
    "X = df.drop(['count', 'casual', 'registered'], axis=1)\n",
    "y = df['count']"
   ]
  },
  {
   "cell_type": "code",
   "execution_count": 4,
   "id": "e4820842-9ab1-4d5b-8062-7cb5b02b4ac4",
   "metadata": {
    "tags": []
   },
   "outputs": [],
   "source": [
    "X_train, X_test, y_train, y_test = train_test_split(X,y)"
   ]
  },
  {
   "cell_type": "code",
   "execution_count": 11,
   "id": "24a7cfda-b027-428a-985a-dd28f2ed3860",
   "metadata": {
    "tags": []
   },
   "outputs": [],
   "source": [
    "def extract_dates(frame):\n",
    "    \"\"\"extract datetime information\"\"\"\n",
    "    frame['month'] = frame.iloc[:,0].dt.month\n",
    "    frame['year'] = frame.iloc[:,0].dt.year\n",
    "    frame['day'] = frame.iloc[:,0].dt.day\n",
    "    return frame.iloc[:,1:]"
   ]
  },
  {
   "cell_type": "code",
   "execution_count": 12,
   "id": "752bdcf0-0d11-40de-adf1-6ad4987a82b7",
   "metadata": {
    "tags": []
   },
   "outputs": [],
   "source": [
    "def reduce_weather(frame):\n",
    "    \"\"\"set weather 4 to 3\"\"\"\n",
    "    return frame.replace({4:3})"
   ]
  },
  {
   "cell_type": "code",
   "execution_count": 13,
   "id": "7dccc254-ca02-4130-927c-bdb29948bb10",
   "metadata": {
    "tags": []
   },
   "outputs": [],
   "source": [
    "date_pipe = Pipeline([\n",
    "    ('extract', FunctionTransformer(extract_dates)),\n",
    "    ('ohe', OneHotEncoder())\n",
    "])\n",
    "\n",
    "weather_pipe = Pipeline([\n",
    "    ('reduce', FunctionTransformer(reduce_weather)),\n",
    "    ('ohe', OneHotEncoder())\n",
    "])"
   ]
  },
  {
   "cell_type": "code",
   "execution_count": 14,
   "id": "348e39be-a467-41bb-9a65-b054c42bba77",
   "metadata": {
    "tags": []
   },
   "outputs": [],
   "source": [
    "ct = ColumnTransformer([\n",
    "    ('ohe', OneHotEncoder(), ['season']),\n",
    "    ('bin', KBinsDiscretizer(), ['atemp', 'humidity', 'windspeed']),\n",
    "    ('pass', 'passthrough', ['workingday', 'holiday']),\n",
    "    ('date', date_pipe, ['datetime']),\n",
    "    ('weather', weather_pipe, ['weather'])\n",
    "], remainder='drop')"
   ]
  },
  {
   "cell_type": "code",
   "execution_count": 17,
   "id": "310a19fa-7934-4f6d-ab2f-9e98c086e2f1",
   "metadata": {
    "tags": []
   },
   "outputs": [],
   "source": [
    "complete_pipe = Pipeline([\n",
    "    ('ct', ct),\n",
    "    ('expansion', PolynomialFeatures(degree=4, interaction_only=True)),\n",
    "    ('model', PoissonRegressor(alpha=1.0))\n",
    "    #('model', RandomForestRegressor(max_depth=5))\n",
    "])"
   ]
  },
  {
   "cell_type": "code",
   "execution_count": 18,
   "id": "f492cdee-9669-4248-b5b9-7445aafab90a",
   "metadata": {
    "tags": []
   },
   "outputs": [
    {
     "name": "stderr",
     "output_type": "stream",
     "text": [
      "/home/jens/venv/ds/lib/python3.11/site-packages/sklearn/linear_model/_glm/glm.py:284: ConvergenceWarning: lbfgs failed to converge (status=1):\n",
      "STOP: TOTAL NO. of ITERATIONS REACHED LIMIT.\n",
      "\n",
      "Increase the number of iterations (max_iter) or scale the data as shown in:\n",
      "    https://scikit-learn.org/stable/modules/preprocessing.html\n",
      "  self.n_iter_ = _check_optimize_result(\"lbfgs\", opt_res)\n"
     ]
    },
    {
     "data": {
      "text/html": [
       "<style>#sk-container-id-3 {color: black;background-color: white;}#sk-container-id-3 pre{padding: 0;}#sk-container-id-3 div.sk-toggleable {background-color: white;}#sk-container-id-3 label.sk-toggleable__label {cursor: pointer;display: block;width: 100%;margin-bottom: 0;padding: 0.3em;box-sizing: border-box;text-align: center;}#sk-container-id-3 label.sk-toggleable__label-arrow:before {content: \"▸\";float: left;margin-right: 0.25em;color: #696969;}#sk-container-id-3 label.sk-toggleable__label-arrow:hover:before {color: black;}#sk-container-id-3 div.sk-estimator:hover label.sk-toggleable__label-arrow:before {color: black;}#sk-container-id-3 div.sk-toggleable__content {max-height: 0;max-width: 0;overflow: hidden;text-align: left;background-color: #f0f8ff;}#sk-container-id-3 div.sk-toggleable__content pre {margin: 0.2em;color: black;border-radius: 0.25em;background-color: #f0f8ff;}#sk-container-id-3 input.sk-toggleable__control:checked~div.sk-toggleable__content {max-height: 200px;max-width: 100%;overflow: auto;}#sk-container-id-3 input.sk-toggleable__control:checked~label.sk-toggleable__label-arrow:before {content: \"▾\";}#sk-container-id-3 div.sk-estimator input.sk-toggleable__control:checked~label.sk-toggleable__label {background-color: #d4ebff;}#sk-container-id-3 div.sk-label input.sk-toggleable__control:checked~label.sk-toggleable__label {background-color: #d4ebff;}#sk-container-id-3 input.sk-hidden--visually {border: 0;clip: rect(1px 1px 1px 1px);clip: rect(1px, 1px, 1px, 1px);height: 1px;margin: -1px;overflow: hidden;padding: 0;position: absolute;width: 1px;}#sk-container-id-3 div.sk-estimator {font-family: monospace;background-color: #f0f8ff;border: 1px dotted black;border-radius: 0.25em;box-sizing: border-box;margin-bottom: 0.5em;}#sk-container-id-3 div.sk-estimator:hover {background-color: #d4ebff;}#sk-container-id-3 div.sk-parallel-item::after {content: \"\";width: 100%;border-bottom: 1px solid gray;flex-grow: 1;}#sk-container-id-3 div.sk-label:hover label.sk-toggleable__label {background-color: #d4ebff;}#sk-container-id-3 div.sk-serial::before {content: \"\";position: absolute;border-left: 1px solid gray;box-sizing: border-box;top: 0;bottom: 0;left: 50%;z-index: 0;}#sk-container-id-3 div.sk-serial {display: flex;flex-direction: column;align-items: center;background-color: white;padding-right: 0.2em;padding-left: 0.2em;position: relative;}#sk-container-id-3 div.sk-item {position: relative;z-index: 1;}#sk-container-id-3 div.sk-parallel {display: flex;align-items: stretch;justify-content: center;background-color: white;position: relative;}#sk-container-id-3 div.sk-item::before, #sk-container-id-3 div.sk-parallel-item::before {content: \"\";position: absolute;border-left: 1px solid gray;box-sizing: border-box;top: 0;bottom: 0;left: 50%;z-index: -1;}#sk-container-id-3 div.sk-parallel-item {display: flex;flex-direction: column;z-index: 1;position: relative;background-color: white;}#sk-container-id-3 div.sk-parallel-item:first-child::after {align-self: flex-end;width: 50%;}#sk-container-id-3 div.sk-parallel-item:last-child::after {align-self: flex-start;width: 50%;}#sk-container-id-3 div.sk-parallel-item:only-child::after {width: 0;}#sk-container-id-3 div.sk-dashed-wrapped {border: 1px dashed gray;margin: 0 0.4em 0.5em 0.4em;box-sizing: border-box;padding-bottom: 0.4em;background-color: white;}#sk-container-id-3 div.sk-label label {font-family: monospace;font-weight: bold;display: inline-block;line-height: 1.2em;}#sk-container-id-3 div.sk-label-container {text-align: center;}#sk-container-id-3 div.sk-container {/* jupyter's `normalize.less` sets `[hidden] { display: none; }` but bootstrap.min.css set `[hidden] { display: none !important; }` so we also need the `!important` here to be able to override the default hidden behavior on the sphinx rendered scikit-learn.org. See: https://github.com/scikit-learn/scikit-learn/issues/21755 */display: inline-block !important;position: relative;}#sk-container-id-3 div.sk-text-repr-fallback {display: none;}</style><div id=\"sk-container-id-3\" class=\"sk-top-container\"><div class=\"sk-text-repr-fallback\"><pre>Pipeline(steps=[(&#x27;ct&#x27;,\n",
       "                 ColumnTransformer(transformers=[(&#x27;ohe&#x27;, OneHotEncoder(),\n",
       "                                                  [&#x27;season&#x27;]),\n",
       "                                                 (&#x27;bin&#x27;, KBinsDiscretizer(),\n",
       "                                                  [&#x27;atemp&#x27;, &#x27;humidity&#x27;,\n",
       "                                                   &#x27;windspeed&#x27;]),\n",
       "                                                 (&#x27;pass&#x27;, &#x27;passthrough&#x27;,\n",
       "                                                  [&#x27;workingday&#x27;, &#x27;holiday&#x27;]),\n",
       "                                                 (&#x27;date&#x27;,\n",
       "                                                  Pipeline(steps=[(&#x27;extract&#x27;,\n",
       "                                                                   FunctionTransformer(func=&lt;function extract_dates at 0x7f916979f740&gt;)),\n",
       "                                                                  (&#x27;ohe&#x27;,\n",
       "                                                                   OneHotEncoder())]),\n",
       "                                                  [&#x27;datetime&#x27;]),\n",
       "                                                 (&#x27;weather&#x27;,\n",
       "                                                  Pipeline(steps=[(&#x27;reduce&#x27;,\n",
       "                                                                   FunctionTransformer(func=&lt;function reduce_weather at 0x7f916979e5c0&gt;)),\n",
       "                                                                  (&#x27;ohe&#x27;,\n",
       "                                                                   OneHotEncoder())]),\n",
       "                                                  [&#x27;weather&#x27;])])),\n",
       "                (&#x27;expansion&#x27;,\n",
       "                 PolynomialFeatures(degree=4, interaction_only=True)),\n",
       "                (&#x27;model&#x27;, PoissonRegressor())])</pre><b>In a Jupyter environment, please rerun this cell to show the HTML representation or trust the notebook. <br />On GitHub, the HTML representation is unable to render, please try loading this page with nbviewer.org.</b></div><div class=\"sk-container\" hidden><div class=\"sk-item sk-dashed-wrapped\"><div class=\"sk-label-container\"><div class=\"sk-label sk-toggleable\"><input class=\"sk-toggleable__control sk-hidden--visually\" id=\"sk-estimator-id-27\" type=\"checkbox\" ><label for=\"sk-estimator-id-27\" class=\"sk-toggleable__label sk-toggleable__label-arrow\">Pipeline</label><div class=\"sk-toggleable__content\"><pre>Pipeline(steps=[(&#x27;ct&#x27;,\n",
       "                 ColumnTransformer(transformers=[(&#x27;ohe&#x27;, OneHotEncoder(),\n",
       "                                                  [&#x27;season&#x27;]),\n",
       "                                                 (&#x27;bin&#x27;, KBinsDiscretizer(),\n",
       "                                                  [&#x27;atemp&#x27;, &#x27;humidity&#x27;,\n",
       "                                                   &#x27;windspeed&#x27;]),\n",
       "                                                 (&#x27;pass&#x27;, &#x27;passthrough&#x27;,\n",
       "                                                  [&#x27;workingday&#x27;, &#x27;holiday&#x27;]),\n",
       "                                                 (&#x27;date&#x27;,\n",
       "                                                  Pipeline(steps=[(&#x27;extract&#x27;,\n",
       "                                                                   FunctionTransformer(func=&lt;function extract_dates at 0x7f916979f740&gt;)),\n",
       "                                                                  (&#x27;ohe&#x27;,\n",
       "                                                                   OneHotEncoder())]),\n",
       "                                                  [&#x27;datetime&#x27;]),\n",
       "                                                 (&#x27;weather&#x27;,\n",
       "                                                  Pipeline(steps=[(&#x27;reduce&#x27;,\n",
       "                                                                   FunctionTransformer(func=&lt;function reduce_weather at 0x7f916979e5c0&gt;)),\n",
       "                                                                  (&#x27;ohe&#x27;,\n",
       "                                                                   OneHotEncoder())]),\n",
       "                                                  [&#x27;weather&#x27;])])),\n",
       "                (&#x27;expansion&#x27;,\n",
       "                 PolynomialFeatures(degree=4, interaction_only=True)),\n",
       "                (&#x27;model&#x27;, PoissonRegressor())])</pre></div></div></div><div class=\"sk-serial\"><div class=\"sk-item sk-dashed-wrapped\"><div class=\"sk-label-container\"><div class=\"sk-label sk-toggleable\"><input class=\"sk-toggleable__control sk-hidden--visually\" id=\"sk-estimator-id-28\" type=\"checkbox\" ><label for=\"sk-estimator-id-28\" class=\"sk-toggleable__label sk-toggleable__label-arrow\">ct: ColumnTransformer</label><div class=\"sk-toggleable__content\"><pre>ColumnTransformer(transformers=[(&#x27;ohe&#x27;, OneHotEncoder(), [&#x27;season&#x27;]),\n",
       "                                (&#x27;bin&#x27;, KBinsDiscretizer(),\n",
       "                                 [&#x27;atemp&#x27;, &#x27;humidity&#x27;, &#x27;windspeed&#x27;]),\n",
       "                                (&#x27;pass&#x27;, &#x27;passthrough&#x27;,\n",
       "                                 [&#x27;workingday&#x27;, &#x27;holiday&#x27;]),\n",
       "                                (&#x27;date&#x27;,\n",
       "                                 Pipeline(steps=[(&#x27;extract&#x27;,\n",
       "                                                  FunctionTransformer(func=&lt;function extract_dates at 0x7f916979f740&gt;)),\n",
       "                                                 (&#x27;ohe&#x27;, OneHotEncoder())]),\n",
       "                                 [&#x27;datetime&#x27;]),\n",
       "                                (&#x27;weather&#x27;,\n",
       "                                 Pipeline(steps=[(&#x27;reduce&#x27;,\n",
       "                                                  FunctionTransformer(func=&lt;function reduce_weather at 0x7f916979e5c0&gt;)),\n",
       "                                                 (&#x27;ohe&#x27;, OneHotEncoder())]),\n",
       "                                 [&#x27;weather&#x27;])])</pre></div></div></div><div class=\"sk-parallel\"><div class=\"sk-parallel-item\"><div class=\"sk-item\"><div class=\"sk-label-container\"><div class=\"sk-label sk-toggleable\"><input class=\"sk-toggleable__control sk-hidden--visually\" id=\"sk-estimator-id-29\" type=\"checkbox\" ><label for=\"sk-estimator-id-29\" class=\"sk-toggleable__label sk-toggleable__label-arrow\">ohe</label><div class=\"sk-toggleable__content\"><pre>[&#x27;season&#x27;]</pre></div></div></div><div class=\"sk-serial\"><div class=\"sk-item\"><div class=\"sk-estimator sk-toggleable\"><input class=\"sk-toggleable__control sk-hidden--visually\" id=\"sk-estimator-id-30\" type=\"checkbox\" ><label for=\"sk-estimator-id-30\" class=\"sk-toggleable__label sk-toggleable__label-arrow\">OneHotEncoder</label><div class=\"sk-toggleable__content\"><pre>OneHotEncoder()</pre></div></div></div></div></div></div><div class=\"sk-parallel-item\"><div class=\"sk-item\"><div class=\"sk-label-container\"><div class=\"sk-label sk-toggleable\"><input class=\"sk-toggleable__control sk-hidden--visually\" id=\"sk-estimator-id-31\" type=\"checkbox\" ><label for=\"sk-estimator-id-31\" class=\"sk-toggleable__label sk-toggleable__label-arrow\">bin</label><div class=\"sk-toggleable__content\"><pre>[&#x27;atemp&#x27;, &#x27;humidity&#x27;, &#x27;windspeed&#x27;]</pre></div></div></div><div class=\"sk-serial\"><div class=\"sk-item\"><div class=\"sk-estimator sk-toggleable\"><input class=\"sk-toggleable__control sk-hidden--visually\" id=\"sk-estimator-id-32\" type=\"checkbox\" ><label for=\"sk-estimator-id-32\" class=\"sk-toggleable__label sk-toggleable__label-arrow\">KBinsDiscretizer</label><div class=\"sk-toggleable__content\"><pre>KBinsDiscretizer()</pre></div></div></div></div></div></div><div class=\"sk-parallel-item\"><div class=\"sk-item\"><div class=\"sk-label-container\"><div class=\"sk-label sk-toggleable\"><input class=\"sk-toggleable__control sk-hidden--visually\" id=\"sk-estimator-id-33\" type=\"checkbox\" ><label for=\"sk-estimator-id-33\" class=\"sk-toggleable__label sk-toggleable__label-arrow\">pass</label><div class=\"sk-toggleable__content\"><pre>[&#x27;workingday&#x27;, &#x27;holiday&#x27;]</pre></div></div></div><div class=\"sk-serial\"><div class=\"sk-item\"><div class=\"sk-estimator sk-toggleable\"><input class=\"sk-toggleable__control sk-hidden--visually\" id=\"sk-estimator-id-34\" type=\"checkbox\" ><label for=\"sk-estimator-id-34\" class=\"sk-toggleable__label sk-toggleable__label-arrow\">passthrough</label><div class=\"sk-toggleable__content\"><pre>passthrough</pre></div></div></div></div></div></div><div class=\"sk-parallel-item\"><div class=\"sk-item\"><div class=\"sk-label-container\"><div class=\"sk-label sk-toggleable\"><input class=\"sk-toggleable__control sk-hidden--visually\" id=\"sk-estimator-id-35\" type=\"checkbox\" ><label for=\"sk-estimator-id-35\" class=\"sk-toggleable__label sk-toggleable__label-arrow\">date</label><div class=\"sk-toggleable__content\"><pre>[&#x27;datetime&#x27;]</pre></div></div></div><div class=\"sk-serial\"><div class=\"sk-item\"><div class=\"sk-serial\"><div class=\"sk-item\"><div class=\"sk-estimator sk-toggleable\"><input class=\"sk-toggleable__control sk-hidden--visually\" id=\"sk-estimator-id-36\" type=\"checkbox\" ><label for=\"sk-estimator-id-36\" class=\"sk-toggleable__label sk-toggleable__label-arrow\">FunctionTransformer</label><div class=\"sk-toggleable__content\"><pre>FunctionTransformer(func=&lt;function extract_dates at 0x7f916979f740&gt;)</pre></div></div></div><div class=\"sk-item\"><div class=\"sk-estimator sk-toggleable\"><input class=\"sk-toggleable__control sk-hidden--visually\" id=\"sk-estimator-id-37\" type=\"checkbox\" ><label for=\"sk-estimator-id-37\" class=\"sk-toggleable__label sk-toggleable__label-arrow\">OneHotEncoder</label><div class=\"sk-toggleable__content\"><pre>OneHotEncoder()</pre></div></div></div></div></div></div></div></div><div class=\"sk-parallel-item\"><div class=\"sk-item\"><div class=\"sk-label-container\"><div class=\"sk-label sk-toggleable\"><input class=\"sk-toggleable__control sk-hidden--visually\" id=\"sk-estimator-id-38\" type=\"checkbox\" ><label for=\"sk-estimator-id-38\" class=\"sk-toggleable__label sk-toggleable__label-arrow\">weather</label><div class=\"sk-toggleable__content\"><pre>[&#x27;weather&#x27;]</pre></div></div></div><div class=\"sk-serial\"><div class=\"sk-item\"><div class=\"sk-serial\"><div class=\"sk-item\"><div class=\"sk-estimator sk-toggleable\"><input class=\"sk-toggleable__control sk-hidden--visually\" id=\"sk-estimator-id-39\" type=\"checkbox\" ><label for=\"sk-estimator-id-39\" class=\"sk-toggleable__label sk-toggleable__label-arrow\">FunctionTransformer</label><div class=\"sk-toggleable__content\"><pre>FunctionTransformer(func=&lt;function reduce_weather at 0x7f916979e5c0&gt;)</pre></div></div></div><div class=\"sk-item\"><div class=\"sk-estimator sk-toggleable\"><input class=\"sk-toggleable__control sk-hidden--visually\" id=\"sk-estimator-id-40\" type=\"checkbox\" ><label for=\"sk-estimator-id-40\" class=\"sk-toggleable__label sk-toggleable__label-arrow\">OneHotEncoder</label><div class=\"sk-toggleable__content\"><pre>OneHotEncoder()</pre></div></div></div></div></div></div></div></div></div></div><div class=\"sk-item\"><div class=\"sk-estimator sk-toggleable\"><input class=\"sk-toggleable__control sk-hidden--visually\" id=\"sk-estimator-id-41\" type=\"checkbox\" ><label for=\"sk-estimator-id-41\" class=\"sk-toggleable__label sk-toggleable__label-arrow\">PolynomialFeatures</label><div class=\"sk-toggleable__content\"><pre>PolynomialFeatures(degree=4, interaction_only=True)</pre></div></div></div><div class=\"sk-item\"><div class=\"sk-estimator sk-toggleable\"><input class=\"sk-toggleable__control sk-hidden--visually\" id=\"sk-estimator-id-42\" type=\"checkbox\" ><label for=\"sk-estimator-id-42\" class=\"sk-toggleable__label sk-toggleable__label-arrow\">PoissonRegressor</label><div class=\"sk-toggleable__content\"><pre>PoissonRegressor()</pre></div></div></div></div></div></div></div>"
      ],
      "text/plain": [
       "Pipeline(steps=[('ct',\n",
       "                 ColumnTransformer(transformers=[('ohe', OneHotEncoder(),\n",
       "                                                  ['season']),\n",
       "                                                 ('bin', KBinsDiscretizer(),\n",
       "                                                  ['atemp', 'humidity',\n",
       "                                                   'windspeed']),\n",
       "                                                 ('pass', 'passthrough',\n",
       "                                                  ['workingday', 'holiday']),\n",
       "                                                 ('date',\n",
       "                                                  Pipeline(steps=[('extract',\n",
       "                                                                   FunctionTransformer(func=<function extract_dates at 0x7f916979f740>)),\n",
       "                                                                  ('ohe',\n",
       "                                                                   OneHotEncoder())]),\n",
       "                                                  ['datetime']),\n",
       "                                                 ('weather',\n",
       "                                                  Pipeline(steps=[('reduce',\n",
       "                                                                   FunctionTransformer(func=<function reduce_weather at 0x7f916979e5c0>)),\n",
       "                                                                  ('ohe',\n",
       "                                                                   OneHotEncoder())]),\n",
       "                                                  ['weather'])])),\n",
       "                ('expansion',\n",
       "                 PolynomialFeatures(degree=4, interaction_only=True)),\n",
       "                ('model', PoissonRegressor())])"
      ]
     },
     "execution_count": 18,
     "metadata": {},
     "output_type": "execute_result"
    }
   ],
   "source": [
    "complete_pipe.fit(X_train, y_train)"
   ]
  },
  {
   "cell_type": "code",
   "execution_count": 22,
   "id": "0b7a11e0-b031-4aaf-b103-144aee171114",
   "metadata": {
    "tags": []
   },
   "outputs": [
    {
     "data": {
      "text/plain": [
       "-1.0099469742823384"
      ]
     },
     "execution_count": 22,
     "metadata": {},
     "output_type": "execute_result"
    }
   ],
   "source": [
    "rmsle_scorer(complete_pipe, X_train, y_train)"
   ]
  },
  {
   "cell_type": "code",
   "execution_count": 20,
   "id": "51500ee2-ccdb-4003-9645-9f284da7b84a",
   "metadata": {
    "tags": []
   },
   "outputs": [],
   "source": [
    "def my_scorer(y_true, y_pred):\n",
    "    return mean_squared_log_error(y_true, y_pred, squared=False)"
   ]
  },
  {
   "cell_type": "code",
   "execution_count": 21,
   "id": "bce10e1f-33de-46f4-b53e-fba4c6062586",
   "metadata": {
    "tags": []
   },
   "outputs": [],
   "source": [
    "rmsle_scorer = make_scorer(my_scorer, greater_is_better=False)"
   ]
  },
  {
   "cell_type": "code",
   "execution_count": null,
   "id": "9dedb5d1-4943-41a9-8166-64787b74ca5a",
   "metadata": {
    "tags": []
   },
   "outputs": [],
   "source": [
    "param_grid = {'model__alpha': [0.01, 0.1, 1.0, 10.0], \n",
    "              'expansion__degree': [2,3,4,5], \n",
    "              'expansion__interaction_only': [True, False]}"
   ]
  },
  {
   "cell_type": "code",
   "execution_count": null,
   "id": "ae30e16e-ac50-4d07-bd00-4309ecb2a4be",
   "metadata": {
    "tags": []
   },
   "outputs": [],
   "source": [
    "param_grid = {'model__alpha': [0.01]}"
   ]
  },
  {
   "cell_type": "code",
   "execution_count": null,
   "id": "9039f56c-9ffb-46a0-b001-69f0658332ae",
   "metadata": {
    "tags": []
   },
   "outputs": [],
   "source": [
    "gscv = GridSearchCV(complete_pipe, \n",
    "                    param_grid=param_grid, \n",
    "                    scoring=rmsle_scorer,\n",
    "                   return_train_score=True)"
   ]
  },
  {
   "cell_type": "code",
   "execution_count": null,
   "id": "e0be5fdd-a478-43ba-8365-97b01ce88fb8",
   "metadata": {
    "tags": []
   },
   "outputs": [],
   "source": [
    "gscv.fit(X_train, y_train)"
   ]
  },
  {
   "cell_type": "code",
   "execution_count": null,
   "id": "d64a7a4d-887c-4b96-84c5-fe8aef1b4e5f",
   "metadata": {
    "tags": []
   },
   "outputs": [],
   "source": [
    "gscv.best_score_"
   ]
  }
 ],
 "metadata": {
  "kernelspec": {
   "display_name": "ds",
   "language": "python",
   "name": "ds"
  },
  "language_info": {
   "codemirror_mode": {
    "name": "ipython",
    "version": 3
   },
   "file_extension": ".py",
   "mimetype": "text/x-python",
   "name": "python",
   "nbconvert_exporter": "python",
   "pygments_lexer": "ipython3",
   "version": "3.11.2"
  }
 },
 "nbformat": 4,
 "nbformat_minor": 5
}
