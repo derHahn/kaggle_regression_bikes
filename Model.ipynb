{
 "cells": [
  {
   "cell_type": "markdown",
   "id": "c06bc041-f869-4e58-a169-2febd2debf60",
   "metadata": {},
   "source": [
    "# Kaggle competition: Bike Sharing Demand\n",
    "Jens Hahn"
   ]
  },
  {
   "cell_type": "code",
   "execution_count": null,
   "id": "ad19ec5f-fbb0-4e02-a745-9a5bdcfd1d8b",
   "metadata": {
    "tags": []
   },
   "outputs": [],
   "source": [
    "import pandas as pd\n",
    "import numpy as np\n",
    "\n",
    "from sklearn.model_selection import train_test_split, GridSearchCV\n",
    "from sklearn.preprocessing import OneHotEncoder, StandardScaler, PolynomialFeatures, KBinsDiscretizer, FunctionTransformer, PowerTransformer\n",
    "from sklearn.pipeline import Pipeline\n",
    "from sklearn.compose import ColumnTransformer\n",
    "from sklearn.metrics import mean_squared_log_error, make_scorer\n",
    "from sklearn.linear_model import PoissonRegressor\n",
    "from sklearn.ensemble import RandomForestRegressor"
   ]
  },
  {
   "cell_type": "code",
   "execution_count": null,
   "id": "aee8b103-430a-4053-abce-4f16e064e049",
   "metadata": {
    "tags": []
   },
   "outputs": [],
   "source": [
    "df = pd.read_csv('data/train.csv', parse_dates=[0])"
   ]
  },
  {
   "cell_type": "code",
   "execution_count": null,
   "id": "edeaef30-8ce9-4c86-bd66-b159b3ecf53f",
   "metadata": {
    "tags": []
   },
   "outputs": [],
   "source": [
    "X = df.drop(['count', 'casual', 'registered'], axis=1)\n",
    "y = df['count']"
   ]
  },
  {
   "cell_type": "code",
   "execution_count": null,
   "id": "e4820842-9ab1-4d5b-8062-7cb5b02b4ac4",
   "metadata": {
    "tags": []
   },
   "outputs": [],
   "source": [
    "X_train, X_test, y_train, y_test = train_test_split(X,y)"
   ]
  },
  {
   "cell_type": "code",
   "execution_count": null,
   "id": "24a7cfda-b027-428a-985a-dd28f2ed3860",
   "metadata": {
    "tags": []
   },
   "outputs": [],
   "source": [
    "def extract_dates(frame):\n",
    "    \"\"\"extract datetime information\"\"\"\n",
    "    frame['month'] = frame.iloc[:,0].dt.month\n",
    "    frame['year'] = frame.iloc[:,0].dt.year\n",
    "    frame['hour'] = frame.iloc[:,0].dt.hour\n",
    "    return frame.iloc[:,1:]"
   ]
  },
  {
   "cell_type": "code",
   "execution_count": null,
   "id": "752bdcf0-0d11-40de-adf1-6ad4987a82b7",
   "metadata": {
    "tags": []
   },
   "outputs": [],
   "source": [
    "def reduce_weather(frame):\n",
    "    \"\"\"set weather 4 to 3\"\"\"\n",
    "    return frame.replace({4:3})"
   ]
  },
  {
   "cell_type": "code",
   "execution_count": null,
   "id": "7dccc254-ca02-4130-927c-bdb29948bb10",
   "metadata": {
    "tags": []
   },
   "outputs": [],
   "source": [
    "date_pipe = Pipeline([\n",
    "    ('extract', FunctionTransformer(extract_dates)),\n",
    "    ('ohe', OneHotEncoder(drop='first'))\n",
    "])\n",
    "\n",
    "weather_pipe = Pipeline([\n",
    "    ('reduce', FunctionTransformer(reduce_weather)),\n",
    "    ('ohe', OneHotEncoder(drop='first'))\n",
    "])\n",
    "\n",
    "wind_pipe = Pipeline([\n",
    "    ('transform', PowerTransformer(method='yeo-johnson')),\n",
    "    ('bins', KBinsDiscretizer(n_bins=10))\n",
    "])"
   ]
  },
  {
   "cell_type": "code",
   "execution_count": null,
   "id": "348e39be-a467-41bb-9a65-b054c42bba77",
   "metadata": {
    "tags": []
   },
   "outputs": [],
   "source": [
    "ct = ColumnTransformer([\n",
    "    # ('ohe', OneHotEncoder(drop='first'), ['season']),\n",
    "    ('wind', wind_pipe, ['windspeed']),\n",
    "    ('bin', KBinsDiscretizer(n_bins=10), ['atemp', 'humidity']),\n",
    "    ('pass', 'passthrough', ['workingday', 'holiday']),\n",
    "    ('date', date_pipe, ['datetime']),\n",
    "    ('weather', weather_pipe, ['weather'])\n",
    "], remainder='drop')"
   ]
  },
  {
   "cell_type": "code",
   "execution_count": null,
   "id": "310a19fa-7934-4f6d-ab2f-9e98c086e2f1",
   "metadata": {
    "tags": []
   },
   "outputs": [],
   "source": [
    "complete_pipe = Pipeline([\n",
    "    ('ct', ct),\n",
    "    ('expansion', PolynomialFeatures(degree=4, interaction_only=True)),\n",
    "    ('model', PoissonRegressor(alpha=0.2))\n",
    "    #('model', RandomForestRegressor(max_depth=5))\n",
    "])"
   ]
  },
  {
   "cell_type": "code",
   "execution_count": null,
   "id": "f492cdee-9669-4248-b5b9-7445aafab90a",
   "metadata": {
    "tags": []
   },
   "outputs": [],
   "source": [
    "complete_pipe.fit(X_train, y_train)"
   ]
  },
  {
   "cell_type": "code",
   "execution_count": null,
   "id": "51500ee2-ccdb-4003-9645-9f284da7b84a",
   "metadata": {
    "tags": []
   },
   "outputs": [],
   "source": [
    "def my_scorer(y_true, y_pred, **kwargs):\n",
    "    return mean_squared_log_error(y_true, y_pred, squared=False, **kwargs)"
   ]
  },
  {
   "cell_type": "code",
   "execution_count": null,
   "id": "bce10e1f-33de-46f4-b53e-fba4c6062586",
   "metadata": {
    "tags": []
   },
   "outputs": [],
   "source": [
    "rmsle_scorer = make_scorer(my_scorer, greater_is_better=False, )"
   ]
  },
  {
   "cell_type": "code",
   "execution_count": null,
   "id": "0b7a11e0-b031-4aaf-b103-144aee171114",
   "metadata": {
    "tags": []
   },
   "outputs": [],
   "source": [
    "rmsle_scorer(complete_pipe, X_train, y_train)"
   ]
  },
  {
   "cell_type": "code",
   "execution_count": null,
   "id": "9dedb5d1-4943-41a9-8166-64787b74ca5a",
   "metadata": {
    "tags": []
   },
   "outputs": [],
   "source": [
    "param_grid = {'model__alpha': [0.01, 0.1, 1.0, 10.0], \n",
    "              'expansion__degree': [2,3,4], \n",
    "              'expansion__interaction_only': [True, False]}"
   ]
  },
  {
   "cell_type": "code",
   "execution_count": null,
   "id": "9039f56c-9ffb-46a0-b001-69f0658332ae",
   "metadata": {
    "tags": []
   },
   "outputs": [],
   "source": [
    "gscv = GridSearchCV(complete_pipe, \n",
    "                    param_grid=param_grid, \n",
    "                    scoring=rmsle_scorer,\n",
    "                   return_train_score=True, n_jobs=8)"
   ]
  },
  {
   "cell_type": "code",
   "execution_count": null,
   "id": "e0be5fdd-a478-43ba-8365-97b01ce88fb8",
   "metadata": {
    "tags": []
   },
   "outputs": [],
   "source": [
    "gscv.fit(X_train, y_train)"
   ]
  },
  {
   "cell_type": "code",
   "execution_count": null,
   "id": "d64a7a4d-887c-4b96-84c5-fe8aef1b4e5f",
   "metadata": {
    "tags": []
   },
   "outputs": [],
   "source": [
    "gscv.best_score_"
   ]
  },
  {
   "cell_type": "code",
   "execution_count": null,
   "id": "464aef21-401c-4284-82d5-432f133f71da",
   "metadata": {},
   "outputs": [],
   "source": [
    "gscv.best_params_"
   ]
  },
  {
   "cell_type": "markdown",
   "id": "250fb544-1286-45db-8063-511849bbfb68",
   "metadata": {},
   "source": [
    "## Kaggle prediction"
   ]
  },
  {
   "cell_type": "code",
   "execution_count": null,
   "id": "32ce0b15-6da4-4c46-8622-57b387fd4316",
   "metadata": {
    "tags": []
   },
   "outputs": [],
   "source": [
    "df_kaggle = pd.read_csv('data/test.csv', parse_dates=[0])"
   ]
  },
  {
   "cell_type": "code",
   "execution_count": null,
   "id": "92adc9c4-1447-4927-8dec-4574ebb0b9a2",
   "metadata": {
    "tags": []
   },
   "outputs": [],
   "source": [
    "X_kaggle = df_kaggle.copy()"
   ]
  },
  {
   "cell_type": "code",
   "execution_count": null,
   "id": "73f1cf2c-bedd-4974-b93a-24f0233ce92c",
   "metadata": {
    "tags": []
   },
   "outputs": [],
   "source": [
    "y_kaggle = complete_pipe.predict(X_kaggle)"
   ]
  },
  {
   "cell_type": "code",
   "execution_count": null,
   "id": "cdac0431-502c-4994-823a-dab62d543c20",
   "metadata": {},
   "outputs": [],
   "source": [
    "y_kaggle = gscv.best_estimator_.predict(X_kaggle)"
   ]
  },
  {
   "cell_type": "code",
   "execution_count": null,
   "id": "419ba736-6f03-4e67-9e68-9e66eed26797",
   "metadata": {
    "tags": []
   },
   "outputs": [],
   "source": [
    "sol = pd.DataFrame(y_kaggle, columns=['count'], index=df_kaggle['datetime'])"
   ]
  },
  {
   "cell_type": "code",
   "execution_count": null,
   "id": "58ff1550-6ee6-46f7-9be5-81b28243e42e",
   "metadata": {
    "tags": []
   },
   "outputs": [],
   "source": [
    "sol.head()"
   ]
  },
  {
   "cell_type": "code",
   "execution_count": null,
   "id": "a8d1c723-0f17-4a7d-adeb-927c933f6ac8",
   "metadata": {
    "tags": []
   },
   "outputs": [],
   "source": [
    "sol.to_csv('solution.csv')"
   ]
  }
 ],
 "metadata": {
  "kernelspec": {
   "display_name": "Python 3 (ipykernel)",
   "language": "python",
   "name": "python3"
  },
  "language_info": {
   "codemirror_mode": {
    "name": "ipython",
    "version": 3
   },
   "file_extension": ".py",
   "mimetype": "text/x-python",
   "name": "python",
   "nbconvert_exporter": "python",
   "pygments_lexer": "ipython3",
   "version": "3.11.2"
  }
 },
 "nbformat": 4,
 "nbformat_minor": 5
}
