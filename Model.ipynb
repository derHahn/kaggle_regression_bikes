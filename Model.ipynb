{
 "cells": [
  {
   "cell_type": "markdown",
   "id": "c06bc041-f869-4e58-a169-2febd2debf60",
   "metadata": {},
   "source": [
    "# Kaggle competition: Bike Sharing Demand\n",
    "Jens Hahn"
   ]
  },
  {
   "cell_type": "code",
   "execution_count": null,
   "id": "ad19ec5f-fbb0-4e02-a745-9a5bdcfd1d8b",
   "metadata": {
    "tags": []
   },
   "outputs": [],
   "source": [
    "import pandas as pd\n",
    "import numpy as np\n",
    "\n",
    "from sklearn.model_selection import train_test_split, GridSearchCV\n",
    "from sklearn.preprocessing import OneHotEncoder, StandardScaler, PolynomialFeatures, KBinsDiscretizer\n",
    "from sklearn.pipeline import Pipeline\n",
    "from sklearn.compose import ColumnTransformer\n",
    "from sklearn.metrics import mean_squared_log_error, make_scorer\n",
    "from sklearn.linear_model import PoissonRegressor\n",
    "from sklearn.ensemble import RandomForestRegressor"
   ]
  },
  {
   "cell_type": "code",
   "execution_count": null,
   "id": "aee8b103-430a-4053-abce-4f16e064e049",
   "metadata": {
    "tags": []
   },
   "outputs": [],
   "source": [
    "df = pd.read_csv('data/train.csv', parse_dates=[0])"
   ]
  },
  {
   "cell_type": "code",
   "execution_count": null,
   "id": "edeaef30-8ce9-4c86-bd66-b159b3ecf53f",
   "metadata": {
    "tags": []
   },
   "outputs": [],
   "source": [
    "X = df.drop(['count', 'casual', 'registered'], axis=1)\n",
    "y = df['count']"
   ]
  },
  {
   "cell_type": "code",
   "execution_count": null,
   "id": "e4820842-9ab1-4d5b-8062-7cb5b02b4ac4",
   "metadata": {
    "tags": []
   },
   "outputs": [],
   "source": [
    "X_train, X_test, y_train, y_test = train_test_split(X,y)"
   ]
  },
  {
   "cell_type": "code",
   "execution_count": null,
   "id": "24a7cfda-b027-428a-985a-dd28f2ed3860",
   "metadata": {
    "tags": []
   },
   "outputs": [],
   "source": [
    "def extract_dates(frame):\n",
    "    \"\"\"extract datetime information\"\"\"\n",
    "    frame['month'] = frame.iloc[:,0].dt.month\n",
    "    frame['year'] = frame.iloc[:,0].dt.year\n",
    "    frame['day'] = frame.iloc[:,0].dt.day\n",
    "    return frame"
   ]
  },
  {
   "cell_type": "code",
   "execution_count": null,
   "id": "752bdcf0-0d11-40de-adf1-6ad4987a82b7",
   "metadata": {
    "tags": []
   },
   "outputs": [],
   "source": [
    "def reduce_weather(frame):\n",
    "    \"\"\"set weather 4 to 3\"\"\"\n",
    "    return frame.replace({4:3})"
   ]
  },
  {
   "cell_type": "code",
   "execution_count": null,
   "id": "7dccc254-ca02-4130-927c-bdb29948bb10",
   "metadata": {
    "tags": []
   },
   "outputs": [],
   "source": [
    "date_pipe = Pipeline([\n",
    "    ('extract', ColumnTransformer(extract_dates)),\n",
    "    ('ohe', OneHotEncoder())\n",
    "])\n",
    "\n",
    "weather_pipe = Pipeline([\n",
    "    ('reduce', ColumnTransformer(reduce_weather)),\n",
    "    ('ohe', OneHotEncoder())\n",
    "])"
   ]
  },
  {
   "cell_type": "code",
   "execution_count": null,
   "id": "348e39be-a467-41bb-9a65-b054c42bba77",
   "metadata": {
    "tags": []
   },
   "outputs": [],
   "source": [
    "ct = ColumnTransformer([\n",
    "    ('ohe', OneHotEncoder(), ['season', 'weather']),\n",
    "    ('bin', KBinsDiscretizer(), ['atemp', 'humidity', 'windspeed']),\n",
    "    ('pass', 'passthrough', ['workingday', 'holiday'])\n",
    "], remainder='drop')"
   ]
  },
  {
   "cell_type": "code",
   "execution_count": null,
   "id": "310a19fa-7934-4f6d-ab2f-9e98c086e2f1",
   "metadata": {
    "tags": []
   },
   "outputs": [],
   "source": [
    "complete_pipe = Pipeline([\n",
    "    ('ct', ct),\n",
    "    ('expansion', PolynomialFeatures(degree=4, interaction_only=True)),\n",
    "    ('model', PoissonRegressor(alpha=10.0))\n",
    "    #('model', RandomForestRegressor(max_depth=5))\n",
    "])"
   ]
  },
  {
   "cell_type": "code",
   "execution_count": null,
   "id": "f492cdee-9669-4248-b5b9-7445aafab90a",
   "metadata": {
    "tags": []
   },
   "outputs": [],
   "source": [
    "complete_pipe.fit(X_train, y_train)"
   ]
  },
  {
   "cell_type": "code",
   "execution_count": null,
   "id": "0b7a11e0-b031-4aaf-b103-144aee171114",
   "metadata": {
    "tags": []
   },
   "outputs": [],
   "source": [
    "rmsle_scorer(complete_pipe, X_train, y_train)"
   ]
  },
  {
   "cell_type": "code",
   "execution_count": null,
   "id": "51500ee2-ccdb-4003-9645-9f284da7b84a",
   "metadata": {
    "tags": []
   },
   "outputs": [],
   "source": [
    "def my_scorer(y_true, y_pred):\n",
    "    return mean_squared_log_error(y_true, y_pred, squared=False)"
   ]
  },
  {
   "cell_type": "code",
   "execution_count": null,
   "id": "bce10e1f-33de-46f4-b53e-fba4c6062586",
   "metadata": {
    "tags": []
   },
   "outputs": [],
   "source": [
    "rmsle_scorer = make_scorer(my_scorer, greater_is_better=False)"
   ]
  },
  {
   "cell_type": "code",
   "execution_count": null,
   "id": "9dedb5d1-4943-41a9-8166-64787b74ca5a",
   "metadata": {
    "tags": []
   },
   "outputs": [],
   "source": [
    "param_grid = {'model__alpha': [0.01, 0.1, 1.0, 10.0], \n",
    "              'expansion__degree': [2,3,4,5], \n",
    "              'expansion__interaction_only': [True, False]}"
   ]
  },
  {
   "cell_type": "code",
   "execution_count": null,
   "id": "ae30e16e-ac50-4d07-bd00-4309ecb2a4be",
   "metadata": {
    "tags": []
   },
   "outputs": [],
   "source": [
    "param_grid = {'model__alpha': [0.01]}"
   ]
  },
  {
   "cell_type": "code",
   "execution_count": null,
   "id": "9039f56c-9ffb-46a0-b001-69f0658332ae",
   "metadata": {
    "tags": []
   },
   "outputs": [],
   "source": [
    "gscv = GridSearchCV(complete_pipe, param_grid=param_grid, scoring=rmsle_scorer)"
   ]
  },
  {
   "cell_type": "code",
   "execution_count": null,
   "id": "e0be5fdd-a478-43ba-8365-97b01ce88fb8",
   "metadata": {
    "tags": []
   },
   "outputs": [],
   "source": [
    "gscv.fit(X_train, y_train)"
   ]
  },
  {
   "cell_type": "code",
   "execution_count": null,
   "id": "d64a7a4d-887c-4b96-84c5-fe8aef1b4e5f",
   "metadata": {
    "tags": []
   },
   "outputs": [],
   "source": [
    "gscv.best_score_"
   ]
  }
 ],
 "metadata": {
  "kernelspec": {
   "display_name": "ds",
   "language": "python",
   "name": "ds"
  },
  "language_info": {
   "codemirror_mode": {
    "name": "ipython",
    "version": 3
   },
   "file_extension": ".py",
   "mimetype": "text/x-python",
   "name": "python",
   "nbconvert_exporter": "python",
   "pygments_lexer": "ipython3",
   "version": "3.11.2"
  }
 },
 "nbformat": 4,
 "nbformat_minor": 5
}
